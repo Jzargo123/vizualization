{
  "cells": [
    {
      "cell_type": "code",
      "execution_count": 2,
      "metadata": {
        "id": "vHmJjw4rQ-gT",
        "colab": {
          "base_uri": "https://localhost:8080/"
        },
        "outputId": "bd70c7b3-eda8-4be3-fa8e-afb23440adaa"
      },
      "outputs": [
        {
          "output_type": "stream",
          "name": "stdout",
          "text": [
            "Requirement already satisfied: pygraphml in /usr/local/lib/python3.7/dist-packages (2.4.2)\n"
          ]
        }
      ],
      "source": [
        "%matplotlib inline\n",
        "\n",
        "!pip install pygraphml\n",
        "\n",
        "import matplotlib.pyplot as plt\n",
        "import os, sys, tempfile\n",
        "import numpy as np\n",
        "from pygraphml import Graph\n",
        "from pygraphml import GraphMLParser"
      ]
    },
    {
      "cell_type": "code",
      "execution_count": 24,
      "metadata": {
        "id": "Tg2FFIOHQ-gW"
      },
      "outputs": [],
      "source": [
        "def get_coord_tree (vertex, depth_num):\n",
        "  shift = 0\n",
        "  root = 0\n",
        "  coord_dict = dict()\n",
        "\n",
        "  if len (nodes_edges[vertex]) == 0:\n",
        "    contour = np.array([[0, 0]])\n",
        "    coord_dict[vertex] = (0, depth_num)\n",
        "    return coord_dict, contour\n",
        "  \n",
        "  if len(nodes_edges[vertex]) == 1:\n",
        "    coord_dict, left_contour = get_coord_tree (nodes_edges[vertex][0], (depth_num - 1))\n",
        "    contour = np.array([ np.array([0, 0]), *left_contour])\n",
        "    coord_dict[vertex] = (0, depth_num)\n",
        "    return coord_dict, contour\n",
        "\n",
        "  if len(nodes_edges[vertex]) == 2:\n",
        "    coord_dict, left_contour = get_coord_tree (nodes_edges[vertex][0], (depth_num-1))\n",
        "    right_coord, right_contour = get_coord_tree (nodes_edges[vertex][1], (depth_num-1))\n",
        "    min_depth = min(len(left_contour), len(right_contour))\n",
        "    max_depth = max(len(left_contour), len(right_contour))\n",
        "    rev_left = left_contour\n",
        "    rev_right = right_contour\n",
        "    \n",
        "    for i in range(min_depth):\n",
        "      temp = rev_left[i][1] - rev_right[i][0] + 1\n",
        "      if temp > shift:\n",
        "        shift = temp\n",
        "\n",
        "    for i in right_contour:\n",
        "      i[1] += shift\n",
        "      i[0] += shift\n",
        "\n",
        "    rev_left = left_contour\n",
        "    rev_right = right_contour\n",
        "    \n",
        "    contour = np.array(([[0, 0] for i in range(max_depth)]))\n",
        "    for i in range(max_depth):\n",
        "      if i >= len(left_contour):\n",
        "        left = rev_right[i][0]\n",
        "        right = rev_right[i][1]\n",
        "      elif i >= len(right_contour):\n",
        "        left = rev_left[i][0]\n",
        "        right = rev_left[i][1]\n",
        "      else:\n",
        "        left = min(rev_left[i][0], rev_right[i][0])\n",
        "        right = max(rev_left[i][1], rev_right[i][1])\n",
        "      contour[i][0] = left\n",
        "      contour[i][1] = right\n",
        "    \n",
        "    coord_dict[vertex] = (root, depth_num)    \n",
        "    contour =  np.array([np.array([root, root]), *contour])\n",
        "    shift_right_coord = dict()\n",
        "    for (node, coord) in right_coord.items():\n",
        "      shift_right_coord[node] = (coord[0]+shift, coord[1])\n",
        "    coord_dict.update(shift_right_coord)\n",
        "    return coord_dict, contour"
      ]
    },
    {
      "cell_type": "markdown",
      "metadata": {
        "id": "Tx2iCW61Q-gY"
      },
      "source": [
        "## XML trees import"
      ]
    },
    {
      "cell_type": "markdown",
      "metadata": {
        "id": "1WBPQ2NCQ-gZ"
      },
      "source": [
        "## Tree 1"
      ]
    },
    {
      "cell_type": "code",
      "execution_count": 5,
      "metadata": {
        "id": "zq5rmNK7Q-gZ"
      },
      "outputs": [],
      "source": [
        "tr1 = \"\"\"<?xml version=\"1.0\" encoding=\"UTF-8\"?>\n",
        "<graphml xmlns=\"http://graphml.graphdrawing.org/xmlns\"\n",
        "  xmlns:xsi=\"http://www.w3.org/2001/XMLSchema-instance\"\n",
        "  xsi:schemaLocation=\"http://graphml.graphdrawing.org/xmlns\n",
        "  http://graphml.graphdrawing.org/xmlns/1.0/graphml.xsd\">\n",
        "  <graph id=\"tree\" edgedefault=\"directed\">\n",
        "    <node id=\"n0\"/>\n",
        "    <node id=\"n1\"/>\n",
        "    <node id=\"n2\"/>\n",
        "    <node id=\"n3\"/>\n",
        "    <node id=\"n4\"/>\n",
        "    <node id=\"n5\"/>\n",
        "    <node id=\"n6\"/>\n",
        "    <node id=\"n7\"/>\n",
        "    <node id=\"n8\"/>\n",
        "    <node id=\"n9\"/>\n",
        "    <node id=\"n10\"/>\n",
        "    <node id=\"n11\"/>\n",
        "    <node id=\"n12\"/>\n",
        "    <node id=\"n13\"/>\n",
        "    <node id=\"n14\"/>\n",
        "    <node id=\"n15\"/>\n",
        "    <node id=\"n16\"/>\n",
        "    <node id=\"n17\"/>\n",
        "    <node id=\"n18\"/>\n",
        "    <node id=\"n19\"/>\n",
        "    <node id=\"n20\"/>\n",
        "    <node id=\"n21\"/>\n",
        "    <node id=\"n22\"/>\n",
        "    <node id=\"n23\"/>\n",
        "    <node id=\"n24\"/>\n",
        "    <node id=\"n25\"/>\n",
        "    <node id=\"n26\"/>\n",
        "    <node id=\"n27\"/>\n",
        "    <node id=\"n28\"/>\n",
        "    <node id=\"n29\"/>\n",
        "    <node id=\"n30\"/>\n",
        "    <node id=\"n31\"/>\n",
        "    <node id=\"n32\"/>\n",
        "    <node id=\"n33\"/>\n",
        "    <node id=\"n34\"/>\n",
        "    <node id=\"n35\"/>\n",
        "    <node id=\"n36\"/>\n",
        "    <node id=\"n37\"/>\n",
        "    <node id=\"n38\"/>\n",
        "    <node id=\"n39\"/>\n",
        "    <node id=\"n40\"/>\n",
        "    <node id=\"n41\"/>\n",
        "    <node id=\"n42\"/>\n",
        "    <node id=\"n43\"/>\n",
        "    <node id=\"n44\"/>\n",
        "    <node id=\"n45\"/>\n",
        "    <node id=\"n46\"/>\n",
        "    <node id=\"n47\"/>\n",
        "    <node id=\"n48\"/>\n",
        "    <node id=\"n49\"/>\n",
        "    <node id=\"n50\"/>\n",
        "    <node id=\"n51\"/>\n",
        "    <node id=\"n52\"/>\n",
        "    <node id=\"n53\"/>\n",
        "    <node id=\"n54\"/>\n",
        "    <node id=\"n55\"/>\n",
        "    <node id=\"n56\"/>\n",
        "    <node id=\"n57\"/>\n",
        "    <node id=\"n58\"/>\n",
        "    <node id=\"n59\"/>\n",
        "    <edge source=\"n0\" target=\"n1\"/>\n",
        "    <edge source=\"n0\" target=\"n48\"/>\n",
        "    <edge source=\"n1\" target=\"n2\"/>\n",
        "    <edge source=\"n1\" target=\"n11\"/>\n",
        "    <edge source=\"n2\" target=\"n3\"/>\n",
        "    <edge source=\"n2\" target=\"n6\"/>\n",
        "    <edge source=\"n3\" target=\"n4\"/>\n",
        "    <edge source=\"n3\" target=\"n5\"/>\n",
        "    <edge source=\"n6\" target=\"n7\"/>\n",
        "    <edge source=\"n7\" target=\"n8\"/>\n",
        "    <edge source=\"n7\" target=\"n9\"/>\n",
        "    <edge source=\"n9\" target=\"n10\"/>\n",
        "    <edge source=\"n11\" target=\"n12\"/>\n",
        "    <edge source=\"n11\" target=\"n37\"/>\n",
        "    <edge source=\"n12\" target=\"n13\"/>\n",
        "    <edge source=\"n12\" target=\"n30\"/>\n",
        "    <edge source=\"n13\" target=\"n14\"/>\n",
        "    <edge source=\"n13\" target=\"n20\"/>\n",
        "    <edge source=\"n14\" target=\"n15\"/>\n",
        "    <edge source=\"n14\" target=\"n18\"/>\n",
        "    <edge source=\"n15\" target=\"n16\"/>\n",
        "    <edge source=\"n16\" target=\"n17\"/>\n",
        "    <edge source=\"n18\" target=\"n19\"/>\n",
        "    <edge source=\"n20\" target=\"n21\"/>\n",
        "    <edge source=\"n21\" target=\"n22\"/>\n",
        "    <edge source=\"n21\" target=\"n25\"/>\n",
        "    <edge source=\"n22\" target=\"n23\"/>\n",
        "    <edge source=\"n23\" target=\"n24\"/>\n",
        "    <edge source=\"n25\" target=\"n26\"/>\n",
        "    <edge source=\"n25\" target=\"n28\"/>\n",
        "    <edge source=\"n26\" target=\"n27\"/>\n",
        "    <edge source=\"n28\" target=\"n29\"/>\n",
        "    <edge source=\"n30\" target=\"n31\"/>\n",
        "    <edge source=\"n30\" target=\"n32\"/>\n",
        "    <edge source=\"n32\" target=\"n33\"/>\n",
        "    <edge source=\"n32\" target=\"n34\"/>\n",
        "    <edge source=\"n34\" target=\"n35\"/>\n",
        "    <edge source=\"n35\" target=\"n36\"/>\n",
        "    <edge source=\"n37\" target=\"n38\"/>\n",
        "    <edge source=\"n37\" target=\"n42\"/>\n",
        "    <edge source=\"n38\" target=\"n39\"/>\n",
        "    <edge source=\"n39\" target=\"n40\"/>\n",
        "    <edge source=\"n40\" target=\"n41\"/>\n",
        "    <edge source=\"n42\" target=\"n43\"/>\n",
        "    <edge source=\"n42\" target=\"n45\"/>\n",
        "    <edge source=\"n43\" target=\"n44\"/>\n",
        "    <edge source=\"n45\" target=\"n46\"/>\n",
        "    <edge source=\"n45\" target=\"n47\"/>\n",
        "    <edge source=\"n48\" target=\"n49\"/>\n",
        "    <edge source=\"n48\" target=\"n58\"/>\n",
        "    <edge source=\"n49\" target=\"n50\"/>\n",
        "    <edge source=\"n49\" target=\"n54\"/>\n",
        "    <edge source=\"n50\" target=\"n51\"/>\n",
        "    <edge source=\"n51\" target=\"n52\"/>\n",
        "    <edge source=\"n51\" target=\"n53\"/>\n",
        "    <edge source=\"n54\" target=\"n55\"/>\n",
        "    <edge source=\"n55\" target=\"n56\"/>\n",
        "    <edge source=\"n56\" target=\"n57\"/>\n",
        "    <edge source=\"n58\" target=\"n59\"/>\n",
        "  </graph>\n",
        "</graphml>\"\"\""
      ]
    },
    {
      "cell_type": "code",
      "source": [
        "with open('./tr1.xml', 'w') as file:\n",
        "    file.write(tr1)\n",
        "\n",
        "parser_obj = GraphMLParser()\n",
        "ps = parser_obj.parse('tr1.xml')"
      ],
      "metadata": {
        "id": "tA5l_XfdW71Q"
      },
      "execution_count": 25,
      "outputs": []
    },
    {
      "cell_type": "code",
      "execution_count": 28,
      "metadata": {
        "id": "oIWMG8z1Q-gf"
      },
      "outputs": [],
      "source": [
        "\n",
        "nodes = ps.nodes()\n",
        "edges = ps.edges()\n",
        "nodes_set = set()\n",
        "nodes_edges = dict()\n",
        "nodes_coord = dict()\n",
        "\n",
        "for nd in nodes:\n",
        "    nodes_set.add(nd.id)\n",
        "    nodes_edges[nd.id] = np.empty(0)\n",
        "    nodes_coord[nd.id] = np.zeros(2)\n",
        "\n",
        "for eg in edges:\n",
        "    nodes_edges[eg.node1.id] = np.append(nodes_edges[eg.node1.id], eg.node2.id)\n",
        "    nodes_set.remove(eg.node2.id)"
      ]
    },
    {
      "cell_type": "code",
      "execution_count": 29,
      "metadata": {
        "id": "OUUEh31bQ-gg",
        "colab": {
          "base_uri": "https://localhost:8080/"
        },
        "outputId": "c642de6f-ce7a-4508-e1f4-33aad0b7aa18"
      },
      "outputs": [
        {
          "output_type": "stream",
          "name": "stdout",
          "text": [
            "{'n4': (0, -4), 'n3': (0, -3), 'n5': (1, -4), 'n2': (0, -2), 'n8': (2, -5), 'n7': (2, -4), 'n10': (3, -6), 'n9': (3, -5), 'n6': (2, -3), 'n1': (0, -1), 'n17': (4, -8), 'n16': (4, -7), 'n15': (4, -6), 'n14': (4, -5), 'n19': (5, -7), 'n18': (5, -6), 'n13': (4, -4), 'n24': (6, -9), 'n23': (6, -8), 'n22': (6, -7), 'n21': (6, -6), 'n27': (7, -9), 'n26': (7, -8), 'n25': (7, -7), 'n29': (8, -9), 'n28': (8, -8), 'n20': (6, -5), 'n12': (4, -3), 'n31': (7, -5), 'n30': (7, -4), 'n33': (8, -6), 'n32': (8, -5), 'n36': (9, -8), 'n35': (9, -7), 'n34': (9, -6), 'n11': (4, -2), 'n41': (10, -7), 'n40': (10, -6), 'n39': (10, -5), 'n38': (10, -4), 'n37': (10, -3), 'n44': (11, -6), 'n43': (11, -5), 'n42': (11, -4), 'n46': (12, -6), 'n45': (12, -5), 'n47': (13, -6), 'n0': (0, 0), 'n52': (13, -5), 'n51': (13, -4), 'n53': (14, -5), 'n50': (13, -3), 'n49': (13, -2), 'n57': (15, -6), 'n56': (15, -5), 'n55': (15, -4), 'n54': (15, -3), 'n48': (13, -1), 'n59': (16, -3), 'n58': (16, -2)} [[ 0  0]\n",
            " [ 0 13]\n",
            " [ 0 16]\n",
            " [ 0 16]\n",
            " [ 0 15]\n",
            " [ 2 15]\n",
            " [ 3 15]\n",
            " [ 4 10]\n",
            " [ 4  9]\n",
            " [ 6  8]]\n"
          ]
        }
      ],
      "source": [
        "test, contour_test = get_coord_tree (list(nodes_set)[0], 0)\n",
        "print (test, contour_test)"
      ]
    },
    {
      "cell_type": "code",
      "execution_count": 30,
      "metadata": {
        "id": "3epdXL5EQ-gh",
        "outputId": "449a7ecb-f259-4c92-d1fa-20200ed58700",
        "colab": {
          "base_uri": "https://localhost:8080/",
          "height": 374
        }
      },
      "outputs": [
        {
          "output_type": "display_data",
          "data": {
            "text/plain": [
              "<Figure size 720x432 with 1 Axes>"
            ],
            "image/png": "[encoded data removed]"
          },
          "metadata": {
            "needs_background": "light"
          }
        }
      ],
      "source": [
        "fig, ax = plt.subplots()\n",
        "fig.set_figwidth(10)\n",
        "fig.set_figheight(6)\n",
        "\n",
        "ax.plot([i[0] for i in test.values()], [i[1] for i in test.values()], 'o', color='brown');\n",
        "\n",
        "for (node, children) in nodes_edges.items():\n",
        "  parent_coord = test[node]\n",
        "  for child in children:\n",
        "    child_coord = test[child]\n",
        "    x_values = (parent_coord[0], child_coord[0])\n",
        "    y_values = (parent_coord[1], child_coord[1])\n",
        "    ax.plot(x_values, y_values, color='black')\n",
        "\n",
        "plt.show()"
      ]
    },
    {
      "cell_type": "markdown",
      "metadata": {
        "id": "CfNltl_OQ-gi"
      },
      "source": [
        "## Tree 2"
      ]
    },
    {
      "cell_type": "code",
      "execution_count": 31,
      "metadata": {
        "id": "3iBfPyJHQ-gi"
      },
      "outputs": [],
      "source": [
        "tr2 = \"\"\"<?xml version=\"1.0\" encoding=\"UTF-8\"?>\n",
        "<graphml xmlns=\"http://graphml.graphdrawing.org/xmlns\"\n",
        "  xmlns:xsi=\"http://www.w3.org/2001/XMLSchema-instance\"\n",
        "  xsi:schemaLocation=\"http://graphml.graphdrawing.org/xmlns\n",
        "  http://graphml.graphdrawing.org/xmlns/1.0/graphml.xsd\">\n",
        "  <graph id=\"tree\" edgedefault=\"directed\">\n",
        "    <node id=\"n0\"/>\n",
        "    <node id=\"n1\"/>\n",
        "    <node id=\"n2\"/>\n",
        "    <node id=\"n3\"/>\n",
        "    <node id=\"n4\"/>\n",
        "    <node id=\"n5\"/>\n",
        "    <node id=\"n6\"/>\n",
        "    <node id=\"n7\"/>\n",
        "    <node id=\"n8\"/>\n",
        "    <node id=\"n9\"/>\n",
        "    <node id=\"n10\"/>\n",
        "    <node id=\"n11\"/>\n",
        "    <node id=\"n12\"/>\n",
        "    <node id=\"n13\"/>\n",
        "    <node id=\"n14\"/>\n",
        "    <node id=\"n15\"/>\n",
        "    <node id=\"n16\"/>\n",
        "    <node id=\"n17\"/>\n",
        "    <node id=\"n18\"/>\n",
        "    <node id=\"n19\"/>\n",
        "    <node id=\"n20\"/>\n",
        "    <node id=\"n21\"/>\n",
        "    <node id=\"n22\"/>\n",
        "    <node id=\"n23\"/>\n",
        "    <node id=\"n24\"/>\n",
        "    <node id=\"n25\"/>\n",
        "    <node id=\"n26\"/>\n",
        "    <node id=\"n27\"/>\n",
        "    <node id=\"n28\"/>\n",
        "    <node id=\"n29\"/>\n",
        "    <node id=\"n30\"/>\n",
        "    <node id=\"n31\"/>\n",
        "    <node id=\"n32\"/>\n",
        "    <node id=\"n33\"/>\n",
        "    <node id=\"n34\"/>\n",
        "    <node id=\"n35\"/>\n",
        "    <node id=\"n36\"/>\n",
        "    <node id=\"n37\"/>\n",
        "    <node id=\"n38\"/>\n",
        "    <node id=\"n39\"/>\n",
        "    <node id=\"n40\"/>\n",
        "    <node id=\"n41\"/>\n",
        "    <node id=\"n42\"/>\n",
        "    <node id=\"n43\"/>\n",
        "    <node id=\"n44\"/>\n",
        "    <node id=\"n45\"/>\n",
        "    <node id=\"n46\"/>\n",
        "    <node id=\"n47\"/>\n",
        "    <node id=\"n48\"/>\n",
        "    <node id=\"n49\"/>\n",
        "    <node id=\"n50\"/>\n",
        "    <node id=\"n51\"/>\n",
        "    <node id=\"n52\"/>\n",
        "    <node id=\"n53\"/>\n",
        "    <node id=\"n54\"/>\n",
        "    <node id=\"n55\"/>\n",
        "    <node id=\"n56\"/>\n",
        "    <node id=\"n57\"/>\n",
        "    <node id=\"n58\"/>\n",
        "    <node id=\"n59\"/>\n",
        "    <node id=\"n60\"/>\n",
        "    <node id=\"n61\"/>\n",
        "    <node id=\"n62\"/>\n",
        "    <node id=\"n63\"/>\n",
        "    <node id=\"n64\"/>\n",
        "    <node id=\"n65\"/>\n",
        "    <node id=\"n66\"/>\n",
        "    <node id=\"n67\"/>\n",
        "    <node id=\"n68\"/>\n",
        "    <node id=\"n69\"/>\n",
        "    <node id=\"n70\"/>\n",
        "    <node id=\"n71\"/>\n",
        "    <edge source=\"n0\" target=\"n1\"/>\n",
        "    <edge source=\"n0\" target=\"n24\"/>\n",
        "    <edge source=\"n1\" target=\"n2\"/>\n",
        "    <edge source=\"n1\" target=\"n20\"/>\n",
        "    <edge source=\"n2\" target=\"n3\"/>\n",
        "    <edge source=\"n2\" target=\"n12\"/>\n",
        "    <edge source=\"n3\" target=\"n4\"/>\n",
        "    <edge source=\"n3\" target=\"n9\"/>\n",
        "    <edge source=\"n4\" target=\"n5\"/>\n",
        "    <edge source=\"n4\" target=\"n6\"/>\n",
        "    <edge source=\"n6\" target=\"n7\"/>\n",
        "    <edge source=\"n7\" target=\"n8\"/>\n",
        "    <edge source=\"n9\" target=\"n10\"/>\n",
        "    <edge source=\"n10\" target=\"n11\"/>\n",
        "    <edge source=\"n12\" target=\"n13\"/>\n",
        "    <edge source=\"n12\" target=\"n16\"/>\n",
        "    <edge source=\"n13\" target=\"n14\"/>\n",
        "    <edge source=\"n14\" target=\"n15\"/>\n",
        "    <edge source=\"n16\" target=\"n17\"/>\n",
        "    <edge source=\"n16\" target=\"n18\"/>\n",
        "    <edge source=\"n18\" target=\"n19\"/>\n",
        "    <edge source=\"n20\" target=\"n21\"/>\n",
        "    <edge source=\"n21\" target=\"n22\"/>\n",
        "    <edge source=\"n22\" target=\"n23\"/>\n",
        "    <edge source=\"n24\" target=\"n25\"/>\n",
        "    <edge source=\"n24\" target=\"n41\"/>\n",
        "    <edge source=\"n25\" target=\"n26\"/>\n",
        "    <edge source=\"n25\" target=\"n40\"/>\n",
        "    <edge source=\"n26\" target=\"n27\"/>\n",
        "    <edge source=\"n26\" target=\"n31\"/>\n",
        "    <edge source=\"n27\" target=\"n28\"/>\n",
        "    <edge source=\"n28\" target=\"n29\"/>\n",
        "    <edge source=\"n29\" target=\"n30\"/>\n",
        "    <edge source=\"n31\" target=\"n32\"/>\n",
        "    <edge source=\"n31\" target=\"n37\"/>\n",
        "    <edge source=\"n32\" target=\"n33\"/>\n",
        "    <edge source=\"n32\" target=\"n34\"/>\n",
        "    <edge source=\"n34\" target=\"n35\"/>\n",
        "    <edge source=\"n35\" target=\"n36\"/>\n",
        "    <edge source=\"n37\" target=\"n38\"/>\n",
        "    <edge source=\"n38\" target=\"n39\"/>\n",
        "    <edge source=\"n41\" target=\"n42\"/>\n",
        "    <edge source=\"n41\" target=\"n69\"/>\n",
        "    <edge source=\"n42\" target=\"n43\"/>\n",
        "    <edge source=\"n42\" target=\"n49\"/>\n",
        "    <edge source=\"n43\" target=\"n44\"/>\n",
        "    <edge source=\"n43\" target=\"n46\"/>\n",
        "    <edge source=\"n44\" target=\"n45\"/>\n",
        "    <edge source=\"n46\" target=\"n47\"/>\n",
        "    <edge source=\"n46\" target=\"n48\"/>\n",
        "    <edge source=\"n49\" target=\"n50\"/>\n",
        "    <edge source=\"n49\" target=\"n62\"/>\n",
        "    <edge source=\"n50\" target=\"n51\"/>\n",
        "    <edge source=\"n51\" target=\"n52\"/>\n",
        "    <edge source=\"n51\" target=\"n58\"/>\n",
        "    <edge source=\"n52\" target=\"n53\"/>\n",
        "    <edge source=\"n53\" target=\"n54\"/>\n",
        "    <edge source=\"n53\" target=\"n57\"/>\n",
        "    <edge source=\"n54\" target=\"n55\"/>\n",
        "    <edge source=\"n54\" target=\"n56\"/>\n",
        "    <edge source=\"n58\" target=\"n59\"/>\n",
        "    <edge source=\"n59\" target=\"n60\"/>\n",
        "    <edge source=\"n59\" target=\"n61\"/>\n",
        "    <edge source=\"n62\" target=\"n63\"/>\n",
        "    <edge source=\"n62\" target=\"n65\"/>\n",
        "    <edge source=\"n63\" target=\"n64\"/>\n",
        "    <edge source=\"n65\" target=\"n66\"/>\n",
        "    <edge source=\"n65\" target=\"n68\"/>\n",
        "    <edge source=\"n66\" target=\"n67\"/>\n",
        "    <edge source=\"n69\" target=\"n70\"/>\n",
        "    <edge source=\"n70\" target=\"n71\"/>\n",
        "  </graph>\n",
        "</graphml>\"\"\""
      ]
    },
    {
      "cell_type": "code",
      "execution_count": 32,
      "metadata": {
        "id": "P_OGIYfUQ-gj"
      },
      "outputs": [],
      "source": [
        "filename = 'tr2.xml'\n",
        "with open('./'+filename, 'w') as file:\n",
        "    file.write(tr2)\n",
        "\n",
        "parser_obj = GraphMLParser()\n",
        "ps = parser_obj.parse(filename)"
      ]
    },
    {
      "cell_type": "code",
      "execution_count": 33,
      "metadata": {
        "id": "KpORhQtNQ-gk"
      },
      "outputs": [],
      "source": [
        "nodes = ps.nodes()\n",
        "edges = ps.edges()\n",
        "nodes_set = set()\n",
        "nodes_edges = dict()\n",
        "nodes_coord = dict()\n",
        "\n",
        "for nd in nodes:\n",
        "    nodes_set.add(nd.id)\n",
        "    nodes_edges[nd.id] = np.empty(0)\n",
        "    nodes_coord[nd.id] = np.zeros(2)\n",
        "\n",
        "for eg in edges:\n",
        "    nodes_edges[eg.node1.id] = np.append(nodes_edges[eg.node1.id], eg.node2.id)\n",
        "    nodes_set.remove(eg.node2.id)"
      ]
    },
    {
      "cell_type": "code",
      "execution_count": 34,
      "metadata": {
        "id": "ing-lidxQ-gk"
      },
      "outputs": [],
      "source": [
        "test_2, contour_test_2 = get_coord_tree (list(nodes_set)[0], 0)"
      ]
    },
    {
      "cell_type": "code",
      "execution_count": 35,
      "metadata": {
        "id": "vf5mwVDdQ-gk",
        "outputId": "ec2b7173-a79d-49dd-f744-816576ca0d2d",
        "colab": {
          "base_uri": "https://localhost:8080/"
        }
      },
      "outputs": [
        {
          "output_type": "stream",
          "name": "stdout",
          "text": [
            "{'n5': (0, -5), 'n4': (0, -4), 'n8': (1, -7), 'n7': (1, -6), 'n6': (1, -5), 'n3': (0, -3), 'n11': (2, -6), 'n10': (2, -5), 'n9': (2, -4), 'n2': (0, -2), 'n15': (3, -6), 'n14': (3, -5), 'n13': (3, -4), 'n12': (3, -3), 'n17': (4, -5), 'n16': (4, -4), 'n19': (5, -6), 'n18': (5, -5), 'n1': (0, -1), 'n23': (6, -5), 'n22': (6, -4), 'n21': (6, -3), 'n20': (6, -2), 'n0': (0, 0), 'n30': (7, -7), 'n29': (7, -6), 'n28': (7, -5), 'n27': (7, -4), 'n26': (7, -3), 'n33': (8, -6), 'n32': (8, -5), 'n36': (9, -8), 'n35': (9, -7), 'n34': (9, -6), 'n31': (8, -4), 'n39': (10, -7), 'n38': (10, -6), 'n37': (10, -5), 'n25': (7, -2), 'n40': (8, -3), 'n24': (7, -1), 'n45': (11, -6), 'n44': (11, -5), 'n43': (11, -4), 'n47': (12, -6), 'n46': (12, -5), 'n48': (13, -6), 'n42': (11, -3), 'n55': (14, -10), 'n54': (14, -9), 'n56': (15, -10), 'n53': (14, -8), 'n57': (15, -9), 'n52': (14, -7), 'n51': (14, -6), 'n60': (16, -9), 'n59': (16, -8), 'n61': (17, -9), 'n58': (16, -7), 'n50': (14, -5), 'n49': (14, -4), 'n64': (17, -7), 'n63': (17, -6), 'n62': (17, -5), 'n67': (18, -8), 'n66': (18, -7), 'n65': (18, -6), 'n68': (19, -7), 'n41': (11, -2), 'n71': (18, -5), 'n70': (18, -4), 'n69': (18, -3)}\n"
          ]
        }
      ],
      "source": [
        "print (test_2)"
      ]
    },
    {
      "cell_type": "code",
      "execution_count": 36,
      "metadata": {
        "id": "CmUxO9zAQ-gl",
        "outputId": "5084bbde-75a4-4e1f-a669-0ce0430f591f",
        "colab": {
          "base_uri": "https://localhost:8080/"
        }
      },
      "outputs": [
        {
          "output_type": "stream",
          "name": "stdout",
          "text": [
            "[[ 0  0]\n",
            " [ 0  7]\n",
            " [ 0 11]\n",
            " [ 0 18]\n",
            " [ 0 18]\n",
            " [ 0 18]\n",
            " [ 1 18]\n",
            " [ 1 19]\n",
            " [ 9 18]\n",
            " [14 17]\n",
            " [14 15]]\n"
          ]
        }
      ],
      "source": [
        "print (contour_test_2)"
      ]
    },
    {
      "cell_type": "code",
      "execution_count": null,
      "metadata": {
        "id": "7Tv8w0Y7Q-gl",
        "outputId": "c4aadb68-5568-4e65-b8d6-d6ecaaaa65ac",
        "colab": {
          "base_uri": "https://localhost:8080/",
          "height": 374
        }
      },
      "outputs": [
        {
          "output_type": "display_data",
          "data": {
            "text/plain": [
              "<Figure size 720x432 with 1 Axes>"
            ],
            "image/png": "[encoded data removed]"
          },
          "metadata": {
            "needs_background": "light"
          }
        }
      ],
      "source": [
        "fig, ax = plt.subplots()\n",
        "fig.set_figwidth(10)\n",
        "fig.set_figheight(6)\n",
        "\n",
        "ax.plot([i[0] for i in test_2.values()], [i[1] for i in test_2.values()], 'o', color='brown');\n",
        "\n",
        "for (node, children) in nodes_edges.items():\n",
        "  parent_coord = test_2[node]\n",
        "  for child in children:\n",
        "    child_coord = test_2[child]\n",
        "    x_values = (parent_coord[0], child_coord[0])\n",
        "    y_values = (parent_coord[1], child_coord[1])\n",
        "    ax.plot(x_values, y_values, color='black')\n",
        "\n",
        "\n",
        "plt.show()"
      ]
    },
    {
      "cell_type": "markdown",
      "metadata": {
        "id": "glRdyeZ8Q-gm"
      },
      "source": [
        "## Tree 3"
      ]
    },
    {
      "cell_type": "code",
      "execution_count": 41,
      "metadata": {
        "id": "CFBH-H1RQ-gm"
      },
      "outputs": [],
      "source": [
        "tr3 = \"\"\"<?xml version=\"1.0\" encoding=\"UTF-8\"?>\n",
        "<graphml xmlns=\"http://graphml.graphdrawing.org/xmlns\"\n",
        "  xmlns:xsi=\"http://www.w3.org/2001/XMLSchema-instance\"\n",
        "  xsi:schemaLocation=\"http://graphml.graphdrawing.org/xmlns\n",
        "  http://graphml.graphdrawing.org/xmlns/1.0/graphml.xsd\">\n",
        "  <graph id=\"tree\" edgedefault=\"directed\">\n",
        "    <node id=\"n0\"/>\n",
        "    <node id=\"n1\"/>\n",
        "    <node id=\"n2\"/>\n",
        "    <node id=\"n3\"/>\n",
        "    <node id=\"n4\"/>\n",
        "    <node id=\"n5\"/>\n",
        "    <node id=\"n6\"/>\n",
        "    <node id=\"n7\"/>\n",
        "    <node id=\"n8\"/>\n",
        "    <node id=\"n9\"/>\n",
        "    <node id=\"n10\"/>\n",
        "    <node id=\"n11\"/>\n",
        "    <node id=\"n12\"/>\n",
        "    <node id=\"n13\"/>\n",
        "    <node id=\"n14\"/>\n",
        "    <node id=\"n15\"/>\n",
        "    <node id=\"n16\"/>\n",
        "    <node id=\"n17\"/>\n",
        "    <node id=\"n18\"/>\n",
        "    <node id=\"n19\"/>\n",
        "    <node id=\"n20\"/>\n",
        "    <node id=\"n21\"/>\n",
        "    <node id=\"n22\"/>\n",
        "    <node id=\"n23\"/>\n",
        "    <node id=\"n24\"/>\n",
        "    <node id=\"n25\"/>\n",
        "    <node id=\"n26\"/>\n",
        "    <node id=\"n27\"/>\n",
        "    <node id=\"n28\"/>\n",
        "    <node id=\"n29\"/>\n",
        "    <node id=\"n30\"/>\n",
        "    <node id=\"n31\"/>\n",
        "    <node id=\"n32\"/>\n",
        "    <node id=\"n33\"/>\n",
        "    <node id=\"n34\"/>\n",
        "    <node id=\"n35\"/>\n",
        "    <node id=\"n36\"/>\n",
        "    <node id=\"n37\"/>\n",
        "    <node id=\"n38\"/>\n",
        "    <node id=\"n39\"/>\n",
        "    <node id=\"n40\"/>\n",
        "    <node id=\"n41\"/>\n",
        "    <node id=\"n42\"/>\n",
        "    <node id=\"n43\"/>\n",
        "    <node id=\"n44\"/>\n",
        "    <node id=\"n45\"/>\n",
        "    <node id=\"n46\"/>\n",
        "    <node id=\"n47\"/>\n",
        "    <node id=\"n48\"/>\n",
        "    <node id=\"n49\"/>\n",
        "    <node id=\"n50\"/>\n",
        "    <node id=\"n51\"/>\n",
        "    <node id=\"n52\"/>\n",
        "    <node id=\"n53\"/>\n",
        "    <node id=\"n54\"/>\n",
        "    <node id=\"n55\"/>\n",
        "    <node id=\"n56\"/>\n",
        "    <node id=\"n57\"/>\n",
        "    <node id=\"n58\"/>\n",
        "    <node id=\"n59\"/>\n",
        "    <node id=\"n60\"/>\n",
        "    <node id=\"n61\"/>\n",
        "    <node id=\"n62\"/>\n",
        "    <node id=\"n63\"/>\n",
        "    <node id=\"n64\"/>\n",
        "    <node id=\"n65\"/>\n",
        "    <node id=\"n66\"/>\n",
        "    <node id=\"n67\"/>\n",
        "    <node id=\"n68\"/>\n",
        "    <node id=\"n69\"/>\n",
        "    <node id=\"n70\"/>\n",
        "    <node id=\"n71\"/>\n",
        "    <node id=\"n72\"/>\n",
        "    <node id=\"n73\"/>\n",
        "    <node id=\"n74\"/>\n",
        "    <node id=\"n75\"/>\n",
        "    <node id=\"n76\"/>\n",
        "    <node id=\"n77\"/>\n",
        "    <node id=\"n78\"/>\n",
        "    <node id=\"n79\"/>\n",
        "    <node id=\"n80\"/>\n",
        "    <node id=\"n81\"/>\n",
        "    <node id=\"n82\"/>\n",
        "    <node id=\"n83\"/>\n",
        "    <edge source=\"n0\" target=\"n1\"/>\n",
        "    <edge source=\"n0\" target=\"n2\"/>\n",
        "    <edge source=\"n2\" target=\"n3\"/>\n",
        "    <edge source=\"n2\" target=\"n80\"/>\n",
        "    <edge source=\"n3\" target=\"n4\"/>\n",
        "    <edge source=\"n3\" target=\"n34\"/>\n",
        "    <edge source=\"n4\" target=\"n5\"/>\n",
        "    <edge source=\"n4\" target=\"n30\"/>\n",
        "    <edge source=\"n5\" target=\"n6\"/>\n",
        "    <edge source=\"n5\" target=\"n29\"/>\n",
        "    <edge source=\"n6\" target=\"n7\"/>\n",
        "    <edge source=\"n6\" target=\"n13\"/>\n",
        "    <edge source=\"n7\" target=\"n8\"/>\n",
        "    <edge source=\"n7\" target=\"n10\"/>\n",
        "    <edge source=\"n8\" target=\"n9\"/>\n",
        "    <edge source=\"n10\" target=\"n11\"/>\n",
        "    <edge source=\"n11\" target=\"n12\"/>\n",
        "    <edge source=\"n13\" target=\"n14\"/>\n",
        "    <edge source=\"n13\" target=\"n22\"/>\n",
        "    <edge source=\"n14\" target=\"n15\"/>\n",
        "    <edge source=\"n14\" target=\"n20\"/>\n",
        "    <edge source=\"n15\" target=\"n16\"/>\n",
        "    <edge source=\"n16\" target=\"n17\"/>\n",
        "    <edge source=\"n17\" target=\"n18\"/>\n",
        "    <edge source=\"n18\" target=\"n19\"/>\n",
        "    <edge source=\"n20\" target=\"n21\"/>\n",
        "    <edge source=\"n22\" target=\"n23\"/>\n",
        "    <edge source=\"n22\" target=\"n28\"/>\n",
        "    <edge source=\"n23\" target=\"n24\"/>\n",
        "    <edge source=\"n23\" target=\"n26\"/>\n",
        "    <edge source=\"n24\" target=\"n25\"/>\n",
        "    <edge source=\"n26\" target=\"n27\"/>\n",
        "    <edge source=\"n30\" target=\"n31\"/>\n",
        "    <edge source=\"n30\" target=\"n32\"/>\n",
        "    <edge source=\"n32\" target=\"n33\"/>\n",
        "    <edge source=\"n34\" target=\"n35\"/>\n",
        "    <edge source=\"n34\" target=\"n40\"/>\n",
        "    <edge source=\"n35\" target=\"n36\"/>\n",
        "    <edge source=\"n35\" target=\"n38\"/>\n",
        "    <edge source=\"n36\" target=\"n37\"/>\n",
        "    <edge source=\"n38\" target=\"n39\"/>\n",
        "    <edge source=\"n40\" target=\"n41\"/>\n",
        "    <edge source=\"n40\" target=\"n44\"/>\n",
        "    <edge source=\"n41\" target=\"n42\"/>\n",
        "    <edge source=\"n42\" target=\"n43\"/>\n",
        "    <edge source=\"n44\" target=\"n45\"/>\n",
        "    <edge source=\"n44\" target=\"n68\"/>\n",
        "    <edge source=\"n45\" target=\"n46\"/>\n",
        "    <edge source=\"n45\" target=\"n54\"/>\n",
        "    <edge source=\"n46\" target=\"n47\"/>\n",
        "    <edge source=\"n46\" target=\"n52\"/>\n",
        "    <edge source=\"n47\" target=\"n48\"/>\n",
        "    <edge source=\"n47\" target=\"n50\"/>\n",
        "    <edge source=\"n48\" target=\"n49\"/>\n",
        "    <edge source=\"n50\" target=\"n51\"/>\n",
        "    <edge source=\"n52\" target=\"n53\"/>\n",
        "    <edge source=\"n54\" target=\"n55\"/>\n",
        "    <edge source=\"n54\" target=\"n65\"/>\n",
        "    <edge source=\"n55\" target=\"n56\"/>\n",
        "    <edge source=\"n55\" target=\"n64\"/>\n",
        "    <edge source=\"n56\" target=\"n57\"/>\n",
        "    <edge source=\"n57\" target=\"n58\"/>\n",
        "    <edge source=\"n57\" target=\"n59\"/>\n",
        "    <edge source=\"n59\" target=\"n60\"/>\n",
        "    <edge source=\"n60\" target=\"n61\"/>\n",
        "    <edge source=\"n61\" target=\"n62\"/>\n",
        "    <edge source=\"n62\" target=\"n63\"/>\n",
        "    <edge source=\"n65\" target=\"n66\"/>\n",
        "    <edge source=\"n66\" target=\"n67\"/>\n",
        "    <edge source=\"n68\" target=\"n69\"/>\n",
        "    <edge source=\"n68\" target=\"n70\"/>\n",
        "    <edge source=\"n70\" target=\"n71\"/>\n",
        "    <edge source=\"n70\" target=\"n77\"/>\n",
        "    <edge source=\"n71\" target=\"n72\"/>\n",
        "    <edge source=\"n72\" target=\"n73\"/>\n",
        "    <edge source=\"n73\" target=\"n74\"/>\n",
        "    <edge source=\"n74\" target=\"n75\"/>\n",
        "    <edge source=\"n75\" target=\"n76\"/>\n",
        "    <edge source=\"n77\" target=\"n78\"/>\n",
        "    <edge source=\"n78\" target=\"n79\"/>\n",
        "    <edge source=\"n80\" target=\"n81\"/>\n",
        "    <edge source=\"n80\" target=\"n82\"/>\n",
        "    <edge source=\"n82\" target=\"n83\"/>\n",
        "  </graph>\n",
        "</graphml>\"\"\""
      ]
    },
    {
      "cell_type": "code",
      "execution_count": 42,
      "metadata": {
        "id": "AWXjOWBeQ-gn"
      },
      "outputs": [],
      "source": [
        "filename = 'tr3.xml'\n",
        "with open('./'+filename, 'w') as file:\n",
        "    file.write(tr3)"
      ]
    },
    {
      "cell_type": "code",
      "source": [
        "# def place_graph(filename):\n",
        "ps = parser_obj.parse(filename)\n",
        "nodes = ps.nodes()\n",
        "edges = ps.edges()\n",
        "nodes_set = set()\n",
        "nodes_edges = dict()\n",
        "nodes_coord = dict()\n",
        "\n",
        "for nd in nodes:\n",
        "    nodes_set.add(nd.id)\n",
        "    nodes_edges[nd.id] = np.empty(0)\n",
        "    nodes_coord[nd.id] = np.zeros(2)\n",
        "\n",
        "for eg in edges:\n",
        "    nodes_edges[eg.node1.id] = np.append(nodes_edges[eg.node1.id], eg.node2.id)\n",
        "    nodes_set.remove(eg.node2.id)\n",
        "\n",
        "test, contour_test = get_coord_tree (list(nodes_set)[0], 0)\n",
        "print (test, contour_test)"
      ],
      "metadata": {
        "id": "QJj2DZXqSagl",
        "colab": {
          "base_uri": "https://localhost:8080/"
        },
        "outputId": "16c53c7d-33b3-4d8c-8f23-be5cc3dc7861"
      },
      "execution_count": 45,
      "outputs": [
        {
          "output_type": "stream",
          "name": "stdout",
          "text": [
            "{'n1': (0, -1), 'n0': (0, 0), 'n9': (1, -8), 'n8': (1, -7), 'n7': (1, -6), 'n12': (2, -9), 'n11': (2, -8), 'n10': (2, -7), 'n6': (1, -5), 'n19': (3, -12), 'n18': (3, -11), 'n17': (3, -10), 'n16': (3, -9), 'n15': (3, -8), 'n14': (3, -7), 'n21': (4, -9), 'n20': (4, -8), 'n13': (3, -6), 'n25': (5, -10), 'n24': (5, -9), 'n23': (5, -8), 'n27': (6, -10), 'n26': (6, -9), 'n22': (5, -7), 'n28': (6, -8), 'n5': (1, -4), 'n29': (2, -5), 'n4': (1, -3), 'n31': (3, -5), 'n30': (3, -4), 'n33': (4, -6), 'n32': (4, -5), 'n3': (1, -2), 'n37': (5, -6), 'n36': (5, -5), 'n35': (5, -4), 'n39': (6, -6), 'n38': (6, -5), 'n34': (5, -3), 'n43': (7, -7), 'n42': (7, -6), 'n41': (7, -5), 'n40': (7, -4), 'n49': (8, -10), 'n48': (8, -9), 'n47': (8, -8), 'n51': (9, -10), 'n50': (9, -9), 'n46': (8, -7), 'n53': (10, -9), 'n52': (10, -8), 'n45': (8, -6), 'n58': (11, -11), 'n57': (11, -10), 'n63': (12, -15), 'n62': (12, -14), 'n61': (12, -13), 'n60': (12, -12), 'n59': (12, -11), 'n56': (11, -9), 'n55': (11, -8), 'n64': (12, -9), 'n54': (11, -7), 'n67': (13, -10), 'n66': (13, -9), 'n65': (13, -8), 'n44': (8, -5), 'n69': (13, -7), 'n68': (13, -6), 'n76': (14, -13), 'n75': (14, -12), 'n74': (14, -11), 'n73': (14, -10), 'n72': (14, -9), 'n71': (14, -8), 'n70': (14, -7), 'n79': (15, -10), 'n78': (15, -9), 'n77': (15, -8), 'n2': (1, -1), 'n81': (7, -3), 'n80': (7, -2), 'n83': (8, -4), 'n82': (8, -3)} [[ 0  0]\n",
            " [ 0  1]\n",
            " [ 1  7]\n",
            " [ 1  8]\n",
            " [ 1  8]\n",
            " [ 1  8]\n",
            " [ 1 13]\n",
            " [ 1 14]\n",
            " [ 1 15]\n",
            " [ 2 15]\n",
            " [ 3 15]\n",
            " [ 3 14]\n",
            " [ 3 14]\n",
            " [12 14]\n",
            " [12 12]\n",
            " [12 12]]\n"
          ]
        }
      ]
    },
    {
      "cell_type": "code",
      "execution_count": 46,
      "metadata": {
        "id": "ohR5e00fQ-go",
        "outputId": "3619356d-9632-48c3-807b-cb5e2ef6db7e",
        "colab": {
          "base_uri": "https://localhost:8080/",
          "height": 374
        }
      },
      "outputs": [
        {
          "output_type": "display_data",
          "data": {
            "text/plain": [
              "<Figure size 720x432 with 1 Axes>"
            ],
            "image/png": "[encoded data removed]"
          },
          "metadata": {
            "needs_background": "light"
          }
        }
      ],
      "source": [
        "fig, ax = plt.subplots()\n",
        "fig.set_figwidth(10)\n",
        "fig.set_figheight(6)\n",
        "\n",
        "ax.plot([i[0] for i in test.values()], [i[1] for i in test.values()], 'o', color='brown');\n",
        "\n",
        "for (node, children) in nodes_edges.items():\n",
        "  parent_coord = test[node]\n",
        "  for child in children:\n",
        "    child_coord = test[child]\n",
        "    x_values = (parent_coord[0], child_coord[0])\n",
        "    y_values = (parent_coord[1], child_coord[1])\n",
        "    ax.plot(x_values, y_values, color='black')\n",
        "\n",
        "plt.show()"
      ]
    },
    {
      "cell_type": "code",
      "source": [
        ""
      ],
      "metadata": {
        "id": "oZheoFrwYXSp"
      },
      "execution_count": null,
      "outputs": []
    }
  ],
  "metadata": {
    "kernelspec": {
      "display_name": "Python 3",
      "language": "python",
      "name": "python3"
    },
    "language_info": {
      "codemirror_mode": {
        "name": "ipython",
        "version": 3
      },
      "file_extension": ".py",
      "mimetype": "text/x-python",
      "name": "python",
      "nbconvert_exporter": "python",
      "pygments_lexer": "ipython3",
      "version": "3.8.3"
    },
    "colab": {
      "name": "Aivazov graph visualization Task_1.ipynb",
      "provenance": []
    }
  },
  "nbformat": 4,
  "nbformat_minor": 0
}